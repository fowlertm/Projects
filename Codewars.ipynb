{
 "cells": [
  {
   "cell_type": "markdown",
   "metadata": {},
   "source": [
    "This is a place to keep track of codewars problems which are interesting or in some way noteworthy. "
   ]
  },
  {
   "cell_type": "code",
   "execution_count": 3,
   "metadata": {},
   "outputs": [
    {
     "name": "stdout",
     "output_type": "stream",
     "text": [
      "++++\n",
      "++++\n",
      "++++\n",
      "++++\n"
     ]
    }
   ],
   "source": [
    "def generateShape(n):\n",
    "    return '\\n'.join('+'*n for i in range(n))\n",
    "\n",
    "print(generateShape(4))"
   ]
  },
  {
   "cell_type": "code",
   "execution_count": 47,
   "metadata": {},
   "outputs": [],
   "source": [
    "# This solution is very close, but I can't quite get the left-aligning to work. \n",
    "\n",
    "# def mirror(text):\n",
    "#     res_str = ''\n",
    "    \n",
    "#     words = text.split(' ')\n",
    "#     rev_w = [el[::-1] for el in words]\n",
    "#     biggest = max([len(el) for el in rev_w])\n",
    "#     beg_str = end_str = '*' * (biggest + 4)\n",
    "    \n",
    "#     res_str += beg_str + '\\n'\n",
    "#     for word in rev_w:\n",
    "#         res_str += '*' + ' ' + word + ' ' + '*' + '\\n'\n",
    "#     res_str += end_str\n",
    "\n",
    "#     return res_str\n",
    "\n",
    "\n",
    "# Highest-rated solution \n",
    "# def mirror(s):\n",
    "#     lst = s.split()\n",
    "#     x = max(map(len, lst)) # This is a lot more clever than what I did above. \n",
    "#     border = '*' * (x + 4) # Same idea as mine \n",
    "#     return '\\n'.join((border, '\\n'.join(f'*{w.rjust(x)[::-1]} *' for w in lst), border))\n",
    "\n",
    "# Second highest-rated solution\n",
    "# def mirror(text):\n",
    "#     words = [w[::-1] for w in text.split()]\n",
    "#     max_len = max(map(len, words)) # The top solutions all did this.\n",
    "#     border = ['*' * (max_len + 4)]\n",
    "#     words = ['* {} *'.format(w.ljust(max_len)) for w in words] # A less cumbersome way of getting those spaces in there. \n",
    "#     return '\\n'.join(border + words + border)\n",
    "\n",
    "# print(mirror('Hello World'))"
   ]
  },
  {
   "cell_type": "code",
   "execution_count": null,
   "metadata": {},
   "outputs": [],
   "source": []
  },
  {
   "cell_type": "code",
   "execution_count": null,
   "metadata": {},
   "outputs": [],
   "source": []
  }
 ],
 "metadata": {
  "kernelspec": {
   "display_name": "Python 3",
   "language": "python",
   "name": "python3"
  },
  "language_info": {
   "codemirror_mode": {
    "name": "ipython",
    "version": 3
   },
   "file_extension": ".py",
   "mimetype": "text/x-python",
   "name": "python",
   "nbconvert_exporter": "python",
   "pygments_lexer": "ipython3",
   "version": "3.6.6"
  }
 },
 "nbformat": 4,
 "nbformat_minor": 2
}
